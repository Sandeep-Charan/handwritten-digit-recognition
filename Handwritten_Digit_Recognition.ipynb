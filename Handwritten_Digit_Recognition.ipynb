{
  "nbformat": 4,
  "nbformat_minor": 0,
  "metadata": {
    "accelerator": "GPU",
    "colab": {
      "name": "Handwritten Digit Recognition.ipynb",
      "provenance": []
    },
    "kernelspec": {
      "display_name": "Python 3",
      "name": "python3"
    }
  },
  "cells": [
    {
      "cell_type": "code",
      "metadata": {
        "id": "8brD1nBkStL2"
      },
      "source": [
        "import tensorflow as tf"
      ],
      "execution_count": null,
      "outputs": []
    },
    {
      "cell_type": "code",
      "metadata": {
        "id": "AMr1BL6e5zR9"
      },
      "source": [
        "mnist = tf.keras.datasets.mnist\n",
        "\n",
        "(x_train, y_train), (x_test, y_test) = mnist.load_data()\n",
        "x_train, x_test = x_train / 255.0, x_test / 255.0"
      ],
      "execution_count": null,
      "outputs": []
    },
    {
      "cell_type": "code",
      "metadata": {
        "id": "MQMyUM0H51cH"
      },
      "source": [
        "model = tf.keras.models.Sequential([\n",
        "  tf.keras.layers.Flatten(input_shape=(28, 28)),\n",
        "  tf.keras.layers.Dense(128, activation='relu'),\n",
        "  tf.keras.layers.Dropout(0.2),\n",
        "  tf.keras.layers.Dense(10)\n",
        "])"
      ],
      "execution_count": null,
      "outputs": []
    },
    {
      "cell_type": "code",
      "metadata": {
        "id": "Wzq9394s56Im"
      },
      "source": [
        "loss_fn = tf.keras.losses.SparseCategoricalCrossentropy(from_logits=True)"
      ],
      "execution_count": null,
      "outputs": []
    },
    {
      "cell_type": "code",
      "metadata": {
        "id": "QvX2ovfV5-Nj"
      },
      "source": [
        "model.compile(optimizer='adam',\n",
        "              loss=loss_fn,\n",
        "              metrics=['accuracy'])"
      ],
      "execution_count": null,
      "outputs": []
    },
    {
      "cell_type": "code",
      "metadata": {
        "id": "AZHnqUDm90xw",
        "colab": {
          "base_uri": "https://localhost:8080/"
        },
        "outputId": "600ea846-2967-44d6-ee51-e42d154a3ec1"
      },
      "source": [
        "model.fit(x_train, y_train, epochs=30)"
      ],
      "execution_count": null,
      "outputs": [
        {
          "output_type": "stream",
          "text": [
            "Epoch 1/30\n",
            "1875/1875 [==============================] - 3s 1ms/step - loss: 0.4850 - accuracy: 0.8566\n",
            "Epoch 2/30\n",
            "1875/1875 [==============================] - 3s 1ms/step - loss: 0.1552 - accuracy: 0.9538\n",
            "Epoch 3/30\n",
            "1875/1875 [==============================] - 3s 1ms/step - loss: 0.1122 - accuracy: 0.9661\n",
            "Epoch 4/30\n",
            "1875/1875 [==============================] - 3s 1ms/step - loss: 0.0906 - accuracy: 0.9717\n",
            "Epoch 5/30\n",
            "1875/1875 [==============================] - 3s 1ms/step - loss: 0.0760 - accuracy: 0.9760\n",
            "Epoch 6/30\n",
            "1875/1875 [==============================] - 3s 1ms/step - loss: 0.0651 - accuracy: 0.9785\n",
            "Epoch 7/30\n",
            "1875/1875 [==============================] - 3s 1ms/step - loss: 0.0564 - accuracy: 0.9815\n",
            "Epoch 8/30\n",
            "1875/1875 [==============================] - 3s 1ms/step - loss: 0.0523 - accuracy: 0.9832\n",
            "Epoch 9/30\n",
            "1875/1875 [==============================] - 3s 1ms/step - loss: 0.0485 - accuracy: 0.9841\n",
            "Epoch 10/30\n",
            "1875/1875 [==============================] - 3s 1ms/step - loss: 0.0421 - accuracy: 0.9861\n",
            "Epoch 11/30\n",
            "1875/1875 [==============================] - 3s 1ms/step - loss: 0.0376 - accuracy: 0.9878\n",
            "Epoch 12/30\n",
            "1875/1875 [==============================] - 3s 1ms/step - loss: 0.0341 - accuracy: 0.9885\n",
            "Epoch 13/30\n",
            "1875/1875 [==============================] - 3s 1ms/step - loss: 0.0336 - accuracy: 0.9889\n",
            "Epoch 14/30\n",
            "1875/1875 [==============================] - 3s 1ms/step - loss: 0.0353 - accuracy: 0.9884\n",
            "Epoch 15/30\n",
            "1875/1875 [==============================] - 3s 1ms/step - loss: 0.0290 - accuracy: 0.9904\n",
            "Epoch 16/30\n",
            "1875/1875 [==============================] - 3s 1ms/step - loss: 0.0283 - accuracy: 0.9896\n",
            "Epoch 17/30\n",
            "1875/1875 [==============================] - 3s 1ms/step - loss: 0.0296 - accuracy: 0.9900\n",
            "Epoch 18/30\n",
            "1875/1875 [==============================] - 3s 1ms/step - loss: 0.0249 - accuracy: 0.9917\n",
            "Epoch 19/30\n",
            "1875/1875 [==============================] - 3s 2ms/step - loss: 0.0268 - accuracy: 0.9906\n",
            "Epoch 20/30\n",
            "1875/1875 [==============================] - 3s 1ms/step - loss: 0.0256 - accuracy: 0.9913\n",
            "Epoch 21/30\n",
            "1875/1875 [==============================] - 3s 1ms/step - loss: 0.0251 - accuracy: 0.9919\n",
            "Epoch 22/30\n",
            "1875/1875 [==============================] - 3s 1ms/step - loss: 0.0233 - accuracy: 0.9916\n",
            "Epoch 23/30\n",
            "1875/1875 [==============================] - 3s 1ms/step - loss: 0.0224 - accuracy: 0.9924\n",
            "Epoch 24/30\n",
            "1875/1875 [==============================] - 3s 1ms/step - loss: 0.0208 - accuracy: 0.9926\n",
            "Epoch 25/30\n",
            "1875/1875 [==============================] - 3s 1ms/step - loss: 0.0228 - accuracy: 0.9920\n",
            "Epoch 26/30\n",
            "1875/1875 [==============================] - 3s 1ms/step - loss: 0.0211 - accuracy: 0.9926\n",
            "Epoch 27/30\n",
            "1875/1875 [==============================] - 3s 1ms/step - loss: 0.0228 - accuracy: 0.9924\n",
            "Epoch 28/30\n",
            "1875/1875 [==============================] - 3s 1ms/step - loss: 0.0198 - accuracy: 0.9934\n",
            "Epoch 29/30\n",
            "1875/1875 [==============================] - 3s 1ms/step - loss: 0.0194 - accuracy: 0.9933\n",
            "Epoch 30/30\n",
            "1875/1875 [==============================] - 3s 1ms/step - loss: 0.0203 - accuracy: 0.9930\n"
          ],
          "name": "stdout"
        },
        {
          "output_type": "execute_result",
          "data": {
            "text/plain": [
              "<tensorflow.python.keras.callbacks.History at 0x7f6aa01579d0>"
            ]
          },
          "metadata": {
            "tags": []
          },
          "execution_count": 14
        }
      ]
    },
    {
      "cell_type": "code",
      "metadata": {
        "id": "rTbMk9_LKGd9"
      },
      "source": [
        "probability_model = tf.keras.Sequential([\n",
        "  model,\n",
        "  tf.keras.layers.Softmax()\n",
        "])"
      ],
      "execution_count": null,
      "outputs": []
    },
    {
      "cell_type": "code",
      "metadata": {
        "id": "yc5ReM0I6ByM"
      },
      "source": [
        "probability_model.save('model.h5')"
      ],
      "execution_count": null,
      "outputs": []
    },
    {
      "cell_type": "code",
      "metadata": {
        "id": "7XLZXeouIs6s"
      },
      "source": [
        ""
      ],
      "execution_count": null,
      "outputs": []
    }
  ]
}